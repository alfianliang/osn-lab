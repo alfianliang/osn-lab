{
 "cells": [
  {
   "attachments": {},
   "cell_type": "markdown",
   "metadata": {},
   "source": [
    "Solusi Fungsi Polinom Orde Tiga\n",
    "\n",
    "Penulis : Alfian Gunawan, Sulthan Zahran Ma'ruf, ChatGPT"
   ]
  },
  {
   "cell_type": "code",
   "execution_count": 1,
   "metadata": {},
   "outputs": [],
   "source": [
    "# Berikut ini adalah kode untuk menghitung secara analitik sebuah fungsi polinom orde tiga\n",
    "# Memasukkan simbol kali (*) dan variabel (a,b,c) dari sympy ke dalam kode\n",
    "\n",
    "from sympy import *\n",
    "from sympy.abc import x, y"
   ]
  },
  {
   "cell_type": "code",
   "execution_count": 2,
   "metadata": {},
   "outputs": [],
   "source": [
    "# Sympy adalah library Python untuk matematika simbolik yang memiliki alias sp.\n",
    "import sympy as sp\n",
    "# Untuk selanjutnya, sympy akan dipanggil menggunakan (sp.), jadi tidak perlu menulis lengkap (sympy)\n",
    "\n",
    "# Memperkenalkan x dan y sebagai simbol x dan y pada library sympy\n",
    "x, y = sp.symbols('x y')\n",
    "\n",
    "# Ekspresi persamaan x y^3 - 3(x+1) y + 2(x+1)=0, di mana y = cos[\\theta], dan x = m/M\n",
    "# Perintah expr sudah mengandung asumsi bahwa ekspresi setelah (expr =) sama dengan nol\n",
    "expr = x*y**3 - 3*(x + 1)*y + (x + 1)*2\n",
    "# Tanda bintang satu (*) berarti kali, tanda bintang dua (**) berarti pangkat "
   ]
  },
  {
   "cell_type": "code",
   "execution_count": 3,
   "metadata": {},
   "outputs": [],
   "source": [
    "# Agar output dari hitungan selanjutnya mudah dibaca, maka digunakan perintah berikut\n",
    "init_printing()"
   ]
  },
  {
   "cell_type": "code",
   "execution_count": 4,
   "metadata": {},
   "outputs": [],
   "source": [
    "# Menyelesaikan persamaan yang sudah dimasukkan sebelumnya terhadap y\n",
    "exprs = solve(expr,y)"
   ]
  },
  {
   "cell_type": "code",
   "execution_count": 5,
   "metadata": {},
   "outputs": [
    {
     "data": {
      "image/png": "[encoded data removed]",
      "text/latex": [
       "$\\displaystyle \\frac{x \\left(\\frac{x \\sqrt{- \\frac{\\left(x + 1\\right)^{2}}{x^{3}}} + x + 1}{x}\\right)^{\\frac{2}{3}} \\left(1 + \\sqrt{3} i\\right)^{2} + 4 x + 4}{2 x \\sqrt[3]{\\frac{x \\sqrt{- \\frac{\\left(x + 1\\right)^{2}}{x^{3}}} + x + 1}{x}} \\left(1 + \\sqrt{3} i\\right)}$"
      ],
      "text/plain": [
       "                                2/3                      \n",
       "  ⎛        ____________        ⎞                         \n",
       "  ⎜       ╱         2          ⎟                         \n",
       "  ⎜      ╱  -(x + 1)           ⎟                         \n",
       "  ⎜x⋅   ╱   ──────────  + x + 1⎟                         \n",
       "  ⎜    ╱         3             ⎟                         \n",
       "  ⎜  ╲╱         x              ⎟              2          \n",
       "x⋅⎜────────────────────────────⎟   ⋅(1 + √3⋅ⅈ)  + 4⋅x + 4\n",
       "  ⎝             x              ⎠                         \n",
       "─────────────────────────────────────────────────────────\n",
       "               ______________________________            \n",
       "              ╱         ____________                     \n",
       "             ╱         ╱         2                       \n",
       "            ╱         ╱  -(x + 1)                        \n",
       "           ╱    x⋅   ╱   ──────────  + x + 1             \n",
       "          ╱         ╱         3                          \n",
       "         ╱        ╲╱         x                           \n",
       "  2⋅x⋅3 ╱       ──────────────────────────── ⋅(1 + √3⋅ⅈ) \n",
       "      ╲╱                     x                           "
      ]
     },
     "execution_count": 5,
     "metadata": {},
     "output_type": "execute_result"
    }
   ],
   "source": [
    "# Solusi pertama, dalam python diekspresikan sebagai komponen ke-0 pada sebuah array\n",
    "simplify(exprs[0])"
   ]
  },
  {
   "cell_type": "code",
   "execution_count": 6,
   "metadata": {},
   "outputs": [
    {
     "data": {
      "image/png": "[encoded data removed]",
      "text/latex": [
       "$\\displaystyle \\frac{x \\left(\\frac{x \\sqrt{- \\frac{\\left(x + 1\\right)^{2}}{x^{3}}} + x + 1}{x}\\right)^{\\frac{2}{3}} \\left(1 - \\sqrt{3} i\\right)^{2} + 4 x + 4}{2 x \\sqrt[3]{\\frac{x \\sqrt{- \\frac{\\left(x + 1\\right)^{2}}{x^{3}}} + x + 1}{x}} \\left(1 - \\sqrt{3} i\\right)}$"
      ],
      "text/plain": [
       "                                2/3                      \n",
       "  ⎛        ____________        ⎞                         \n",
       "  ⎜       ╱         2          ⎟                         \n",
       "  ⎜      ╱  -(x + 1)           ⎟                         \n",
       "  ⎜x⋅   ╱   ──────────  + x + 1⎟                         \n",
       "  ⎜    ╱         3             ⎟                         \n",
       "  ⎜  ╲╱         x              ⎟              2          \n",
       "x⋅⎜────────────────────────────⎟   ⋅(1 - √3⋅ⅈ)  + 4⋅x + 4\n",
       "  ⎝             x              ⎠                         \n",
       "─────────────────────────────────────────────────────────\n",
       "               ______________________________            \n",
       "              ╱         ____________                     \n",
       "             ╱         ╱         2                       \n",
       "            ╱         ╱  -(x + 1)                        \n",
       "           ╱    x⋅   ╱   ──────────  + x + 1             \n",
       "          ╱         ╱         3                          \n",
       "         ╱        ╲╱         x                           \n",
       "  2⋅x⋅3 ╱       ──────────────────────────── ⋅(1 - √3⋅ⅈ) \n",
       "      ╲╱                     x                           "
      ]
     },
     "execution_count": 6,
     "metadata": {},
     "output_type": "execute_result"
    }
   ],
   "source": [
    "# Solusi kedua, atau komponen ke-1\n",
    "simplify(exprs[1])"
   ]
  },
  {
   "cell_type": "code",
   "execution_count": 7,
   "metadata": {},
   "outputs": [
    {
     "data": {
      "image/png": "[encoded data removed]",
      "text/latex": [
       "$\\displaystyle \\frac{- x \\left(\\frac{x \\sqrt{- \\frac{\\left(x + 1\\right)^{2}}{x^{3}}} + x + 1}{x}\\right)^{\\frac{2}{3}} - x - 1}{x \\sqrt[3]{\\frac{x \\sqrt{- \\frac{\\left(x + 1\\right)^{2}}{x^{3}}} + x + 1}{x}}}$"
      ],
      "text/plain": [
       "                                  2/3        \n",
       "    ⎛        ____________        ⎞           \n",
       "    ⎜       ╱         2          ⎟           \n",
       "    ⎜      ╱  -(x + 1)           ⎟           \n",
       "    ⎜x⋅   ╱   ──────────  + x + 1⎟           \n",
       "    ⎜    ╱         3             ⎟           \n",
       "    ⎜  ╲╱         x              ⎟           \n",
       "- x⋅⎜────────────────────────────⎟    - x - 1\n",
       "    ⎝             x              ⎠           \n",
       "─────────────────────────────────────────────\n",
       "             ______________________________  \n",
       "            ╱         ____________           \n",
       "           ╱         ╱         2             \n",
       "          ╱         ╱  -(x + 1)              \n",
       "         ╱    x⋅   ╱   ──────────  + x + 1   \n",
       "        ╱         ╱         3                \n",
       "       ╱        ╲╱         x                 \n",
       "  x⋅3 ╱       ────────────────────────────   \n",
       "    ╲╱                     x                 "
      ]
     },
     "execution_count": 7,
     "metadata": {},
     "output_type": "execute_result"
    }
   ],
   "source": [
    "# Solusi ketiga, atau komponen ke-2\n",
    "simplify(exprs[2])"
   ]
  }
 ],
 "metadata": {
  "kernelspec": {
   "display_name": "Python 3",
   "language": "python",
   "name": "python3"
  },
  "language_info": {
   "codemirror_mode": {
    "name": "ipython",
    "version": 3
   },
   "file_extension": ".py",
   "mimetype": "text/x-python",
   "name": "python",
   "nbconvert_exporter": "python",
   "pygments_lexer": "ipython3",
   "version": "3.9.6"
  },
  "orig_nbformat": 4
 },
 "nbformat": 4,
 "nbformat_minor": 2
}
